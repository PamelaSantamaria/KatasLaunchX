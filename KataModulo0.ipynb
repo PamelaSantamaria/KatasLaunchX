{
 "cells": [
  {
   "cell_type": "code",
   "execution_count": 1,
   "metadata": {},
   "outputs": [
    {
     "name": "stdout",
     "output_type": "stream",
     
    }
   ],
   "source": [
    "pip install ipywidgets"
   ]
  },
  {
   "cell_type": "code",
   "execution_count": 4,
   "metadata": {},
   "outputs": [
    {
     "data": {
      "application/vnd.jupyter.widget-view+json": {
       "model_id": "87020d0831d94abe8d89ec38df4d7927",
       "version_major": 2,
       "version_minor": 0
      },
      "text/plain": [
       "ToggleButton(value=False, button_style='success', description='Iniciar Launch', icon='rocket', tooltip='Prepar…"
      ]
     },
     "metadata": {},
     "output_type": "display_data"
    },
    {
     "data": {
      "application/vnd.jupyter.widget-view+json": {
       "model_id": "0fde7174d40744d3b9ab107a4a074d0b",
       "version_major": 2,
       "version_minor": 0
      },
      "text/plain": [
       "Output()"
      ]
     },
     "metadata": {},
     "output_type": "display_data"
    }
   ],
   "source": [
    "import ipywidgets as widgets\n",
    "\n",
    "ignition = widgets.ToggleButton(\n",
    "    value=False,\n",
    "    description='Iniciar Launch',\n",
    "    button_style='success',\n",
    "    tooltip='Preparese para el Launch',\n",
    "    icon='rocket'\n",
    ")\n",
    "\n",
    "output = widgets.Output()\n",
    "\n",
    "display(ignition, output)\n",
    "\n",
    "def on_value_change(change):\n",
    "    with output:\n",
    "        if change['new'] == True:\n",
    "            print(\"Nave Iniciada!\")\n",
    "        else:   \n",
    "            print(\"Nave Detenida\")\n",
    "\n",
    "ignition.observe(on_value_change, names='value')"
   ]
  },
  {
   "cell_type": "code",
   "execution_count": 5,
   "metadata": {},
   "outputs": [
    {
     ]
    }
   ],
   "source": [
    "!pip install matplotlib\n",
    "!pip install numpy"
   ]
  },
  {
   "cell_type": "code",
   "execution_count": 11,
   "metadata": {},
   "outputs": [
    {
     "data": {
      "image/png": "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\n",
      "text/plain": [
       "<Figure size 432x288 with 1 Axes>"
      ]
     },
     "metadata": {
      "needs_background": "light"
     },
     "output_type": "display_data"
    }
   ],
   "source": [
    "import numpy as np\n",
    "import matplotlib.pyplot as plt\n",
    "data = np.random.default_rng(12345)\n",
    "oxy_nums = data.integers(low=0, high=10, size=10)\n",
    "\n",
    "plt.bar(range(len(oxy_nums)), oxy_nums)\n",
    "plt.xticks(range(0,10,1))\n",
    "plt.xlabel(\"Minutos\")\n",
    "plt.ylabel(\"Nivel de oxígeno\")\n",
    "plt.show()"
   ]
  },
  {
   "cell_type": "code",
   "execution_count": 7,
   "metadata": {},
   "outputs": [
    {
     "name": "stdout",
     "output_type": "stream",
     "text": [
      "Tiempo para alcanzar la velocidad deseada =  1142.8571428571427\n"
     ]
    }
   ],
   "source": [
    "endVelocity = 11200\n",
    "startVelocity = 0\n",
    "acceleration = 9.8\n",
    "\n",
    "time = (endVelocity - startVelocity) / acceleration\n",
    "print(\"Tiempo para alcanzar la velocidad deseada = \", time, \"s\")"
   ]
  },
  {
   "cell_type": "code",
   "execution_count": null,
   "metadata": {},
   "outputs": [],
   "source": []
  }
 ],
 "metadata": {
  "kernelspec": {
   "display_name": "Python 3",
   "language": "python",
   "name": "python3"
  },
  "language_info": {
   "codemirror_mode": {
    "name": "ipython",
    "version": 3
   },
   "file_extension": ".py",
   "mimetype": "text/x-python",
   "name": "python",
   "nbconvert_exporter": "python",
   "pygments_lexer": "ipython3",
   "version": "3.8.5"
  }
 },
 "nbformat": 4,
 "nbformat_minor": 4
}
