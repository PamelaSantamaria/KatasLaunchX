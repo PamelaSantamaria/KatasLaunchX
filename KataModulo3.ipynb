{
 "cells": [
  {
   "cell_type": "code",
   "execution_count": 1,
   "metadata": {},
   "outputs": [
    {
     "name": "stdout",
     "output_type": "stream",
     "text": [
      "¡CUIDADO! ¡Un asteroide se está acercando!\n"
     ]
    }
   ],
   "source": [
    "#Ejercicio 1\n",
    "# Añadir el código necesario para crear una variable que guarde la velocidad del asteroide.\n",
    "# Escribe una expresión de prueba para calcular si necesita una advertencia.\n",
    "# Agregue las instrucciones que se ejecutarán si la expresión de prueba es true o false.\n",
    "\n",
    "vel_ast = 49\n",
    "if vel_ast > 25:\n",
    "    print('¡CUIDADO! ¡Un asteroide se está acercando!')\n",
    "else:\n",
    "    print('Nada que temer')"
   ]
  },
  {
   "cell_type": "code",
   "execution_count": 2,
   "metadata": {},
   "outputs": [
    {
     "name": "stdout",
     "output_type": "stream",
     "text": [
      "Cielo despejado.\n"
     ]
    }
   ],
   "source": [
    "#Ejercicio 2\n",
    "# Agrega el código para crear una variable para un asteroide que viaja a 19 km/s\n",
    "# Escribe varias expresiones de prueba para determinar si puedes ver el rayo de luz desde la tierra\n",
    "# Agrega las instrucciones que se ejecutarán si las expresiones de prueba son True o False\n",
    "\n",
    "vel_ast = 19\n",
    "if vel_ast >= 20:\n",
    "    print('¡Mira! ¿Qué es esa luz en el cielo?')\n",
    "else:\n",
    "    print('Cielo despejado.')"
   ]
  },
  {
   "cell_type": "code",
   "execution_count": 4,
   "metadata": {},
   "outputs": [
    {
     "name": "stdout",
     "output_type": "stream",
     "text": [
      "¡Mira! ¿Qué es esa luz en el cielo?\n"
     ]
    }
   ],
   "source": [
    "#Prueba ejercicio 2\n",
    "vel_ast = 29\n",
    "if vel_ast >= 20:\n",
    "    print('¡Mira! ¿Qué es esa luz en el cielo?')\n",
    "else:\n",
    "    print('Cielo despejado.')"
   ]
  },
  {
   "cell_type": "code",
   "execution_count": 5,
   "metadata": {},
   "outputs": [],
   "source": [
    "#Ejercicio 3\n",
    "## Datos sobre amenazas:\n",
    "# 1-. Los asteroides de menos de 25 metros en su dimensión más grande probablemente se quemarán a medida \n",
    "# que entren en la atmósfera de la Tierra.\n",
    "# 2-. Si una pieza de un asteroide que es más grande que 25 metros pero más pequeña que 1000 metros \n",
    "# golpeara la Tierra, causaría mucho daño.\n",
    "# 3-. Un asteroide que viaja a más de 25 km/s merece una advertencia\n",
    "# Agrega el código para crear nuevas variables para la velocidad y el tamaño del asteroide\n",
    "# Para probar el código, prueba con varias velocidades y tamaños\n",
    "# Escribe varias expresiones de prueba o combinaciones de expresiones de prueba para determinar qué mensaje se debe enviar a Tierra."
   ]
  },
  {
   "cell_type": "code",
   "execution_count": 7,
   "metadata": {},
   "outputs": [
    {
     "name": "stdout",
     "output_type": "stream",
     "text": [
      "¡PELIGRO! ¡Un asteroide extremadamente peligroso se acerca!\n"
     ]
    }
   ],
   "source": [
    "vel_ast = 30\n",
    "dia_ast = 30 #diámetro asteroide\n",
    "if (vel_ast > 25) and (dia_ast > 25):\n",
    "    print(\"¡PELIGRO! ¡Un asteroide extremadamente peligroso se acerca!\")\n",
    "elif vel_ast >= 20:\n",
    "    print('¡Mira! ¿Qué es esa luz en el cielo?')\n",
    "else:\n",
    "    print('Cielo despejado')"
   ]
  },
  {
   "cell_type": "code",
   "execution_count": 8,
   "metadata": {},
   "outputs": [
    {
     "name": "stdout",
     "output_type": "stream",
     "text": [
      "Cielo despejado\n"
     ]
    }
   ],
   "source": [
    "#Prueba ejercicio 3\n",
    "vel_ast = 4\n",
    "dia_ast = 4 #diámetro asteroide\n",
    "if (vel_ast > 25) and (dia_ast > 25):\n",
    "    print(\"¡PELIGRO! ¡Un asteroide extremadamente peligroso se acerca!\")\n",
    "elif vel_ast >= 20:\n",
    "    print('¡Mira! ¿Qué es esa luz en el cielo?')\n",
    "else:\n",
    "    print('Cielo despejado')"
   ]
  },
  {
   "cell_type": "code",
   "execution_count": 9,
   "metadata": {},
   "outputs": [
    {
     "name": "stdout",
     "output_type": "stream",
     "text": [
      "¡Mira! ¿Qué es esa luz en el cielo?\n"
     ]
    }
   ],
   "source": [
    "vel_ast = 30\n",
    "dia_ast = 1 #diámetro asteroide\n",
    "if (vel_ast > 25) and (dia_ast > 25):\n",
    "    print(\"¡PELIGRO! ¡Un asteroide extremadamente peligroso se acerca!\")\n",
    "elif vel_ast >= 20:\n",
    "    print('¡Mira! ¿Qué es esa luz en el cielo?')\n",
    "else:\n",
    "    print('Cielo despejado')"
   ]
  },
  {
   "cell_type": "code",
   "execution_count": null,
   "metadata": {},
   "outputs": [],
   "source": []
  }
 ],
 "metadata": {
  "kernelspec": {
   "display_name": "Python 3",
   "language": "python",
   "name": "python3"
  },
  "language_info": {
   "codemirror_mode": {
    "name": "ipython",
    "version": 3
   },
   "file_extension": ".py",
   "mimetype": "text/x-python",
   "name": "python",
   "nbconvert_exporter": "python",
   "pygments_lexer": "ipython3",
   "version": "3.8.5"
  }
 },
 "nbformat": 4,
 "nbformat_minor": 4
}
